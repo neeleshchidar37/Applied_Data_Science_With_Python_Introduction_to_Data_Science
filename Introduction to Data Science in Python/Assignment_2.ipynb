{
 "cells": [
  {
   "cell_type": "markdown",
   "id": "d03a6410-a6e4-436b-a3cc-30dedc3ddd07",
   "metadata": {},
   "source": [
    "## Assignment 2"
   ]
  },
  {
   "cell_type": "markdown",
   "id": "672703f6-4784-4ccd-927d-2ae9c5b50898",
   "metadata": {},
   "source": [
    "For this assignment you'll be looking at 2017 data on immunizations from the CDC. Your datafile for this assignment is in [NISPUF17.csv](NISPUF17.csv). A data users guide for this, which you'll need to map the variables in the data to the questions being asked, is available at [NIS-PUF17-DUG.pdf](NIS-PUF17-DUG.pdf)."
   ]
  },
  {
   "cell_type": "markdown",
   "id": "b4a7775a-5420-4615-9300-027ed3515218",
   "metadata": {},
   "source": [
    "### Question 1\n",
    "Write a function called `proportion_of_education` which returns the proportion of children in the dataset who had a mother with the education levels equal to less than high school (<12), high school (12), more than high school but not a college graduate (>12) and college degree.\n",
    "\n",
    "*This function should return a dictionary in the form of (use the correct numbers, do not round numbers):* \n",
    "```\n",
    "    {\"less than high school\":0.2,\n",
    "    \"high school\":0.4,\n",
    "    \"more than high school but not college\":0.2,\n",
    "    \"college\":0.2}\n",
    "```"
   ]
  },
  {
   "cell_type": "code",
   "execution_count": 15,
   "id": "19c529f1-dd06-4a05-a5c2-947a1e2858d3",
   "metadata": {},
   "outputs": [
    {
     "name": "stdout",
     "output_type": "stream",
     "text": [
      "{'less than high school': 0.10202002459160373, 'high school': 0.172352011241876, 'more than high school but not college': 0.24588090637625154, 'college': 0.47974705779026877}\n"
     ]
    }
   ],
   "source": [
    "import pandas as pd\n",
    "\n",
    "def proportion_of_education():\n",
    "    df = pd.read_csv('NISPUF17.csv')\n",
    "    education_counts = df['EDUC1'].value_counts()\n",
    "    total_children = len(df)\n",
    "    \n",
    "    prediction_counts = {\n",
    "        'less than high school' : education_counts[1]/total_children,\n",
    "        'high school' : education_counts[2]/total_children,\n",
    "        'more than high school but not college': education_counts[3]/total_children,\n",
    "        'college': education_counts[4]/total_children\n",
    "    }\n",
    "\n",
    "    return prediction_counts\n",
    "\n",
    "print(proportion_of_education())"
   ]
  },
  {
   "cell_type": "code",
   "execution_count": 16,
   "id": "f06b1f32-66b4-4f5a-a2d4-2676c7e5ed8f",
   "metadata": {},
   "outputs": [],
   "source": [
    "assert type(proportion_of_education())==type({}), \"You must return a dictionary.\"\n",
    "assert len(proportion_of_education()) == 4, \"You have not returned a dictionary with four items in it.\"\n",
    "assert \"less than high school\" in proportion_of_education().keys(), \"You have not returned a dictionary with the correct keys.\"\n",
    "assert \"high school\" in proportion_of_education().keys(), \"You have not returned a dictionary with the correct keys.\"\n",
    "assert \"more than high school but not college\" in proportion_of_education().keys(), \"You have not returned a dictionary with the correct keys.\"\n",
    "assert \"college\" in proportion_of_education().keys(), \"You have not returned a dictionary with the correct keys.\""
   ]
  },
  {
   "cell_type": "markdown",
   "id": "c115f583-d008-40a4-aebf-ff88710aed4d",
   "metadata": {},
   "source": [
    "### Question 2\n",
    "\n",
    "Let's explore the relationship between being fed breastmilk as a child and getting a seasonal influenza vaccine from a healthcare provider. Return a tuple of the average number of influenza vaccines for those children we know received breastmilk as a child and those who know did not.\n",
    "\n",
    "*This function should return a tuple in the form (use the correct numbers:*\n",
    "```\n",
    "(2.5, 0.1)\n",
    "```"
   ]
  },
  {
   "cell_type": "code",
   "execution_count": 35,
   "id": "7c8da82e-6660-4604-8bcf-0d5ad2f38f2e",
   "metadata": {},
   "outputs": [
    {
     "name": "stdout",
     "output_type": "stream",
     "text": [
      "(1.8799187420058687, 1.5963945918878317)\n"
     ]
    }
   ],
   "source": [
    "def average_influenza_doses():\n",
    "    df = pd.read_csv('NISPUF17.csv')\n",
    "\n",
    "    breastfeeding_group = df[df['CBF_01'] == 1]\n",
    "    non_breastfeeding_group = df[df['CBF_01'] == 2]\n",
    "\n",
    "    avg_influenza_breastfeeding = breastfeeding_group['P_NUMFLU'].mean()\n",
    "    avg_influenza_non_breastfeeding = non_breastfeeding_group['P_NUMFLU'].mean()\n",
    "    \n",
    "    return (avg_influenza_breastfeeding, avg_influenza_non_breastfeeding)\n",
    "\n",
    "print(average_influenza_doses())"
   ]
  },
  {
   "cell_type": "code",
   "execution_count": 36,
   "id": "68c26482-7881-43b6-addc-b5229c203c2a",
   "metadata": {},
   "outputs": [],
   "source": [
    "assert len(average_influenza_doses())==2, \"Return two values in a tuple, the first for yes and the second for no.\""
   ]
  },
  {
   "cell_type": "markdown",
   "id": "9da5541c-d00a-4013-b9c5-5611d97c4630",
   "metadata": {},
   "source": [
    "### Question 3\n",
    "It would be interesting to see if there is any evidence of a link between vaccine effectiveness and sex of the child. Calculate the ratio of the number of children who contracted chickenpox but were vaccinated against it (at least one varicella dose) versus those who were vaccinated but did not contract chicken pox. Return results by sex. \n",
    "\n",
    "*This function should return a dictionary in the form of (use the correct numbers):* \n",
    "```\n",
    "    {\"male\":0.2,\n",
    "    \"female\":0.4}\n",
    "```\n",
    "\n",
    "Note: To aid in verification, the `chickenpox_by_sex()['female']` value the autograder is looking for starts with the digits `0.0077`."
   ]
  },
  {
   "cell_type": "code",
   "execution_count": 89,
   "id": "ed82a815-70c9-4de6-99b0-3a2fc41ff89b",
   "metadata": {},
   "outputs": [
    {
     "name": "stdout",
     "output_type": "stream",
     "text": [
      "{'male': 0.009675583380762664, 'female': 0.0077918259335489565}\n"
     ]
    }
   ],
   "source": [
    "def chickenpox_by_sex():\n",
    "    df = pd.read_csv('NISPUF17.csv')\n",
    "    vaccine_df = df[df['P_NUMVRC'] > 0]\n",
    "    \n",
    "    male_df = vaccine_df[vaccine_df['SEX'] == 1]\n",
    "    female_df = vaccine_df[vaccine_df['SEX'] == 2]\n",
    "\n",
    "    male_vaccinated = male_df[male_df['HAD_CPOX'] == 1]\n",
    "    male_not_vaccinated = male_df[male_df['HAD_CPOX'] == 2]\n",
    "\n",
    "    female_vaccinated = female_df[female_df['HAD_CPOX'] == 1]\n",
    "    female_not_vaccinated = female_df[female_df['HAD_CPOX'] == 2]\n",
    "    \n",
    "    sex_by_ratio = {'male' : male_vaccinated.shape[0]/male_not_vaccinated.shape[0],\n",
    "                    'female': female_vaccinated.shape[0]/female_not_vaccinated.shape[0]}\n",
    "    return sex_by_ratio\n",
    "\n",
    "print(chickenpox_by_sex())"
   ]
  },
  {
   "cell_type": "code",
   "execution_count": 90,
   "id": "4fab920f-2697-4104-865d-16ab252d089e",
   "metadata": {},
   "outputs": [],
   "source": [
    "assert len(chickenpox_by_sex())==2, \"Return a dictionary with two items, the first for males and the second for females.\""
   ]
  },
  {
   "cell_type": "markdown",
   "id": "7b8edb3f-45da-4195-b7e9-cefe4b12fd48",
   "metadata": {},
   "source": [
    "### Question 4\n",
    "A correlation is a statistical relationship between two variables. If we wanted to know if vaccines work, we might look at the correlation between the use of the vaccine and whether it results in prevention of the infection or disease [1]. In this question, you are to see if there is a correlation between having had the chicken pox and the number of chickenpox vaccine doses given (varicella).\n",
    "\n",
    "Some notes on interpreting the answer. The `had_chickenpox_column` is either `1` (for yes) or `2` (for no), and the `num_chickenpox_vaccine_column` is the number of doses a child has been given of the varicella vaccine. A positive correlation (e.g., `corr > 0`) means that an increase in `had_chickenpox_column` (which means more no’s) would also increase the values of `num_chickenpox_vaccine_column` (which means more doses of vaccine). If there is a negative correlation (e.g., `corr < 0`), it indicates that having had chickenpox is related to an increase in the number of vaccine doses.\n",
    "\n",
    "Also, `pval` is the probability that we observe a correlation between `had_chickenpox_column` and `num_chickenpox_vaccine_column` which is greater than or equal to a particular value occurred by chance. A small `pval` means that the observed correlation is highly unlikely to occur by chance. In this case, `pval` should be very small (will end in `e-18` indicating a very small number).\n",
    "\n",
    "[1] This isn’t really the full picture, since we are not looking at when the dose was given. It’s possible that children had chickenpox and then their parents went to get them the vaccine. Does this dataset have the data we would need to investigate the timing of the dose?"
   ]
  },
  {
   "cell_type": "code",
   "execution_count": 48,
   "id": "f84ca4ef-3d9d-4625-8fde-e5c9b7eb3e4e",
   "metadata": {},
   "outputs": [
    {
     "data": {
      "text/plain": [
       "0.07044873460147867"
      ]
     },
     "execution_count": 48,
     "metadata": {},
     "output_type": "execute_result"
    }
   ],
   "source": [
    "import pandas as pd\n",
    "import numpy as np\n",
    "import scipy.stats as stats\n",
    "\n",
    "def corr_chickenpox():\n",
    "    df = pd.read_csv('NISPUF17.csv')\n",
    "    filtered_df = df[(df['HAD_CPOX'] == 1) | (df['HAD_CPOX'] ==2)]\n",
    "    filtered_df = filtered_df.dropna(subset=['P_NUMVRC'])\n",
    "\n",
    "    corr, pval = stats.pearsonr(filtered_df['HAD_CPOX'], filtered_df['P_NUMVRC'])\n",
    "    return corr\n",
    "\n",
    "result = corr_chickenpox()\n",
    "result"
   ]
  },
  {
   "cell_type": "code",
   "execution_count": 49,
   "id": "117e6ef8-fbc2-4e77-9bf9-bf0d034ffdea",
   "metadata": {},
   "outputs": [],
   "source": [
    "assert -1<=corr_chickenpox()<=1, \"You must return a float number between -1.0 and 1.0.\""
   ]
  },
  {
   "cell_type": "markdown",
   "id": "1481b93a-fbd0-497f-a427-4f5e4ec3ab7d",
   "metadata": {},
   "source": [
    "### Thank you\n",
    "## Author\n",
    "\n",
    "[Neelesh Chidar](https://www.linkedin.com/in/neeleshchidar37/)"
   ]
  }
 ],
 "metadata": {
  "kernelspec": {
   "display_name": "Python 3 (ipykernel)",
   "language": "python",
   "name": "python3"
  },
  "language_info": {
   "codemirror_mode": {
    "name": "ipython",
    "version": 3
   },
   "file_extension": ".py",
   "mimetype": "text/x-python",
   "name": "python",
   "nbconvert_exporter": "python",
   "pygments_lexer": "ipython3",
   "version": "3.11.5"
  }
 },
 "nbformat": 4,
 "nbformat_minor": 5
}
