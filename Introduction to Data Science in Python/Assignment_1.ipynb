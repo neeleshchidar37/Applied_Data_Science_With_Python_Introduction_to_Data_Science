{
 "cells": [
  {
   "cell_type": "markdown",
   "id": "663b2bdc-7a8f-450c-a8c4-bc42e7353baf",
   "metadata": {},
   "source": [
    "## Assignment 1"
   ]
  },
  {
   "cell_type": "code",
   "execution_count": 22,
   "id": "4e053d0e-36d1-4f16-a81a-f5a0d07c171a",
   "metadata": {},
   "outputs": [],
   "source": [
    "def example_word_count():\n",
    "    example_string = \"Amy is 5 years old\"\n",
    "\n",
    "    result = example_string.split(\" \")\n",
    "    return len(result)"
   ]
  },
  {
   "cell_type": "markdown",
   "id": "5582d875-7c22-420c-b4fb-9158102c7751",
   "metadata": {},
   "source": [
    "### Part A\n",
    "Find a list of all of all of the names in the following string using regex."
   ]
  },
  {
   "cell_type": "code",
   "execution_count": 23,
   "id": "10b6a671-2959-45a0-a894-b31ae7f39d22",
   "metadata": {},
   "outputs": [],
   "source": [
    "import re"
   ]
  },
  {
   "cell_type": "code",
   "execution_count": 24,
   "id": "d2bd863a-5d1a-445d-94a4-8f796131f428",
   "metadata": {},
   "outputs": [
    {
     "data": {
      "text/plain": [
       "['Amy', 'Mary', 'Ruth', 'Peter']"
      ]
     },
     "execution_count": 24,
     "metadata": {},
     "output_type": "execute_result"
    }
   ],
   "source": [
    "def names():\n",
    "    simple_string =  \"\"\"Amy is 5 years old, and her sister Mary is 2 years old. \n",
    "    Ruth and Peter, their parents, have 3 kids.\"\"\"\n",
    "\n",
    "    name_pattern = r'\\b[A-Z][a-z]*\\b'   # Pattern for finding Names starting with Capital letter\n",
    "    name_list = re.findall(name_pattern, simple_string)\n",
    "    return name_list\n",
    "\n",
    "name_list = names()\n",
    "name_list"
   ]
  },
  {
   "cell_type": "code",
   "execution_count": 25,
   "id": "bdb185dc-59f0-4281-abfa-c3142ae90031",
   "metadata": {},
   "outputs": [],
   "source": [
    "assert len(names()) == 4, \"There are four names in the simple_string\""
   ]
  },
  {
   "cell_type": "markdown",
   "id": "d778ed64-e457-489a-8567-41893779aba6",
   "metadata": {},
   "source": [
    "### Part B\n",
    "\n",
    "The dataset file in [grades.txt](grades.txt) contains a line separated list of people with their grade in a class. Create a regex to generate a list of just those students who received a B in the course."
   ]
  },
  {
   "cell_type": "code",
   "execution_count": 26,
   "id": "a9b14909-3667-497b-b574-bf950540d03a",
   "metadata": {},
   "outputs": [],
   "source": [
    "import re\n",
    "def grades():\n",
    "    with open('grades.txt', 'r') as file:\n",
    "        grades = file.read()\n",
    "\n",
    "        pattern = r'([A-Z][a-z]+ [A-Z][a-z]+): B'  #pattern for finding grade B student\n",
    "        b_students  = re.findall(pattern, grades)\n",
    "        return b_students"
   ]
  },
  {
   "cell_type": "code",
   "execution_count": 28,
   "id": "bc41b686-c597-4985-8eff-2240175de58d",
   "metadata": {},
   "outputs": [
    {
     "name": "stdout",
     "output_type": "stream",
     "text": [
      "['Bell Kassulke', 'Simon Loidl', 'Elias Jovanovic', 'Hakim Botros', 'Emilie Lorentsen', 'Jake Wood', 'Fatemeh Akhtar', 'Kim Weston', 'Yasmin Dar', 'Viswamitra Upandhye', 'Killian Kaufman', 'Elwood Page', 'Elodie Booker', 'Adnan Chen', 'Hank Spinka', 'Hannah Bayer']\n"
     ]
    }
   ],
   "source": [
    "print(grades())"
   ]
  },
  {
   "cell_type": "code",
   "execution_count": 31,
   "id": "f0e4a03d-8918-4a7b-a56e-fc4f5045446b",
   "metadata": {},
   "outputs": [],
   "source": [
    "assert len(grades()) == 16"
   ]
  },
  {
   "cell_type": "markdown",
   "id": "e2fa8818-e14c-4d30-8ff7-1fbfdb63b47c",
   "metadata": {},
   "source": [
    "### Part C\n",
    "\n",
    "Consider the standard web log file in [logdata.txt](assets/logdata.txt). This file records the access a user makes when visiting a web page (like this one!). Each line of the log has the following items:\n",
    "\n",
    "* a host (e.g., '146.204.224.152') \n",
    "* a user_name (e.g., 'feest6811' **note: sometimes the user name is missing! In this case, use '-' as the value for the username.**)\n",
    "* the time a request was made (e.g., '21/Jun/2019:15:45:24 -0700')\n",
    "* the post request type (e.g., 'POST /incentivize HTTP/1.1' **note: not everything is a POST!**)\n",
    "\n",
    "Your task is to convert this into a list of dictionaries, where each dictionary looks like the following:\n",
    "```\n",
    "example_dict = {\"host\":\"146.204.224.152\", \n",
    "                \"user_name\":\"feest6811\", \n",
    "                \"time\":\"21/Jun/2019:15:45:24 -0700\",\n",
    "                \"request\":\"POST /incentivize HTTP/1.1\"}\n",
    "```"
   ]
  },
  {
   "cell_type": "code",
   "execution_count": 43,
   "id": "a332d3c7-4a78-45cc-947b-5711783c31e7",
   "metadata": {},
   "outputs": [],
   "source": [
    "import re\n",
    "\n",
    "def logs():\n",
    "    with open('logdata.txt', 'r') as file:\n",
    "        logdata = file.read()\n",
    "\n",
    "    pattern = r'(?P<host>\\S+) - (?P<user_name>\\S+) \\[(?P<time>[-:\\w\\s\\/]+)\\] \"(?P<request>.*?)\"'\n",
    "    log_entries = [match.groupdict() for match in re.finditer(pattern, logdata)]\n",
    "    return log_entries"
   ]
  },
  {
   "cell_type": "code",
   "execution_count": 46,
   "id": "5d52d0e2-d436-48e0-a6b8-66446b6753a8",
   "metadata": {},
   "outputs": [
    {
     "name": "stdout",
     "output_type": "stream",
     "text": [
      "{'host': '146.204.224.152', 'user_name': 'feest6811', 'time': '21/Jun/2019:15:45:24 -0700', 'request': 'POST /incentivize HTTP/1.1'}\n",
      "{'host': '197.109.77.178', 'user_name': 'kertzmann3129', 'time': '21/Jun/2019:15:45:25 -0700', 'request': 'DELETE /virtual/solutions/target/web+services HTTP/2.0'}\n",
      "{'host': '156.127.178.177', 'user_name': 'okuneva5222', 'time': '21/Jun/2019:15:45:27 -0700', 'request': 'DELETE /interactive/transparent/niches/revolutionize HTTP/1.1'}\n",
      "{'host': '100.32.205.59', 'user_name': 'ortiz8891', 'time': '21/Jun/2019:15:45:28 -0700', 'request': 'PATCH /architectures HTTP/1.0'}\n",
      "{'host': '168.95.156.240', 'user_name': 'stark2413', 'time': '21/Jun/2019:15:45:31 -0700', 'request': 'GET /engage HTTP/2.0'}\n"
     ]
    }
   ],
   "source": [
    "logentries = logs()\n",
    "for entry in logentries[:5]:\n",
    "    print(entry)"
   ]
  },
  {
   "cell_type": "code",
   "execution_count": 49,
   "id": "34f05ee7-3f3d-4805-a1b0-0162c19396e2",
   "metadata": {},
   "outputs": [],
   "source": [
    "assert len(logs()) == 979\n",
    "\n",
    "one_item={'host': '146.204.224.152',\n",
    "  'user_name': 'feest6811',\n",
    "  'time': '21/Jun/2019:15:45:24 -0700',\n",
    "  'request': 'POST /incentivize HTTP/1.1'}\n",
    "assert one_item in logs(), \"Sorry, this item should be in the log results, check your formating\"\n"
   ]
  },
  {
   "cell_type": "code",
   "execution_count": 53,
   "id": "9dfa21ed-d2fa-4c59-8796-ca1926da1fe0",
   "metadata": {},
   "outputs": [
    {
     "data": {
      "text/html": [
       "<div>\n",
       "<style scoped>\n",
       "    .dataframe tbody tr th:only-of-type {\n",
       "        vertical-align: middle;\n",
       "    }\n",
       "\n",
       "    .dataframe tbody tr th {\n",
       "        vertical-align: top;\n",
       "    }\n",
       "\n",
       "    .dataframe thead th {\n",
       "        text-align: right;\n",
       "    }\n",
       "</style>\n",
       "<table border=\"1\" class=\"dataframe\">\n",
       "  <thead>\n",
       "    <tr style=\"text-align: right;\">\n",
       "      <th></th>\n",
       "      <th>host</th>\n",
       "      <th>user_name</th>\n",
       "      <th>time</th>\n",
       "      <th>request</th>\n",
       "    </tr>\n",
       "  </thead>\n",
       "  <tbody>\n",
       "    <tr>\n",
       "      <th>0</th>\n",
       "      <td>146.204.224.152</td>\n",
       "      <td>feest6811</td>\n",
       "      <td>21/Jun/2019:15:45:24 -0700</td>\n",
       "      <td>POST /incentivize HTTP/1.1</td>\n",
       "    </tr>\n",
       "    <tr>\n",
       "      <th>1</th>\n",
       "      <td>197.109.77.178</td>\n",
       "      <td>kertzmann3129</td>\n",
       "      <td>21/Jun/2019:15:45:25 -0700</td>\n",
       "      <td>DELETE /virtual/solutions/target/web+services ...</td>\n",
       "    </tr>\n",
       "    <tr>\n",
       "      <th>2</th>\n",
       "      <td>156.127.178.177</td>\n",
       "      <td>okuneva5222</td>\n",
       "      <td>21/Jun/2019:15:45:27 -0700</td>\n",
       "      <td>DELETE /interactive/transparent/niches/revolut...</td>\n",
       "    </tr>\n",
       "    <tr>\n",
       "      <th>3</th>\n",
       "      <td>100.32.205.59</td>\n",
       "      <td>ortiz8891</td>\n",
       "      <td>21/Jun/2019:15:45:28 -0700</td>\n",
       "      <td>PATCH /architectures HTTP/1.0</td>\n",
       "    </tr>\n",
       "    <tr>\n",
       "      <th>4</th>\n",
       "      <td>168.95.156.240</td>\n",
       "      <td>stark2413</td>\n",
       "      <td>21/Jun/2019:15:45:31 -0700</td>\n",
       "      <td>GET /engage HTTP/2.0</td>\n",
       "    </tr>\n",
       "    <tr>\n",
       "      <th>5</th>\n",
       "      <td>71.172.239.195</td>\n",
       "      <td>dooley1853</td>\n",
       "      <td>21/Jun/2019:15:45:32 -0700</td>\n",
       "      <td>PUT /cutting-edge HTTP/2.0</td>\n",
       "    </tr>\n",
       "    <tr>\n",
       "      <th>6</th>\n",
       "      <td>180.95.121.94</td>\n",
       "      <td>mohr6893</td>\n",
       "      <td>21/Jun/2019:15:45:34 -0700</td>\n",
       "      <td>PATCH /extensible/reinvent HTTP/1.1</td>\n",
       "    </tr>\n",
       "    <tr>\n",
       "      <th>7</th>\n",
       "      <td>144.23.247.108</td>\n",
       "      <td>auer7552</td>\n",
       "      <td>21/Jun/2019:15:45:35 -0700</td>\n",
       "      <td>POST /extensible/infrastructures/one-to-one/en...</td>\n",
       "    </tr>\n",
       "    <tr>\n",
       "      <th>8</th>\n",
       "      <td>2.179.103.97</td>\n",
       "      <td>lind8584</td>\n",
       "      <td>21/Jun/2019:15:45:36 -0700</td>\n",
       "      <td>POST /grow/front-end/e-commerce/robust HTTP/2.0</td>\n",
       "    </tr>\n",
       "    <tr>\n",
       "      <th>9</th>\n",
       "      <td>241.114.184.133</td>\n",
       "      <td>tromp8355</td>\n",
       "      <td>21/Jun/2019:15:45:37 -0700</td>\n",
       "      <td>GET /redefine/orchestrate HTTP/1.0</td>\n",
       "    </tr>\n",
       "  </tbody>\n",
       "</table>\n",
       "</div>"
      ],
      "text/plain": [
       "              host      user_name                        time  \\\n",
       "0  146.204.224.152      feest6811  21/Jun/2019:15:45:24 -0700   \n",
       "1   197.109.77.178  kertzmann3129  21/Jun/2019:15:45:25 -0700   \n",
       "2  156.127.178.177    okuneva5222  21/Jun/2019:15:45:27 -0700   \n",
       "3    100.32.205.59      ortiz8891  21/Jun/2019:15:45:28 -0700   \n",
       "4   168.95.156.240      stark2413  21/Jun/2019:15:45:31 -0700   \n",
       "5   71.172.239.195     dooley1853  21/Jun/2019:15:45:32 -0700   \n",
       "6    180.95.121.94       mohr6893  21/Jun/2019:15:45:34 -0700   \n",
       "7   144.23.247.108       auer7552  21/Jun/2019:15:45:35 -0700   \n",
       "8     2.179.103.97       lind8584  21/Jun/2019:15:45:36 -0700   \n",
       "9  241.114.184.133      tromp8355  21/Jun/2019:15:45:37 -0700   \n",
       "\n",
       "                                             request  \n",
       "0                         POST /incentivize HTTP/1.1  \n",
       "1  DELETE /virtual/solutions/target/web+services ...  \n",
       "2  DELETE /interactive/transparent/niches/revolut...  \n",
       "3                      PATCH /architectures HTTP/1.0  \n",
       "4                               GET /engage HTTP/2.0  \n",
       "5                         PUT /cutting-edge HTTP/2.0  \n",
       "6                PATCH /extensible/reinvent HTTP/1.1  \n",
       "7  POST /extensible/infrastructures/one-to-one/en...  \n",
       "8    POST /grow/front-end/e-commerce/robust HTTP/2.0  \n",
       "9                 GET /redefine/orchestrate HTTP/1.0  "
      ]
     },
     "execution_count": 53,
     "metadata": {},
     "output_type": "execute_result"
    }
   ],
   "source": [
    "import pandas as pd\n",
    "df = pd.DataFrame(logs())\n",
    "df.head(10)"
   ]
  },
  {
   "cell_type": "markdown",
   "id": "4f82e2a7-0069-40a3-b576-9acdbe0810b4",
   "metadata": {},
   "source": [
    "### Thank you\n",
    "## Author\n",
    "\n",
    "[Neelesh Chidar](https://www.linkedin.com/in/neeleshchidar37/)"
   ]
  }
 ],
 "metadata": {
  "kernelspec": {
   "display_name": "Python 3 (ipykernel)",
   "language": "python",
   "name": "python3"
  },
  "language_info": {
   "codemirror_mode": {
    "name": "ipython",
    "version": 3
   },
   "file_extension": ".py",
   "mimetype": "text/x-python",
   "name": "python",
   "nbconvert_exporter": "python",
   "pygments_lexer": "ipython3",
   "version": "3.11.5"
  }
 },
 "nbformat": 4,
 "nbformat_minor": 5
}
