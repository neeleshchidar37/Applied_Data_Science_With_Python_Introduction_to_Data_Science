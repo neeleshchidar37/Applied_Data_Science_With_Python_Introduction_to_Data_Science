{
 "cells": [
  {
   "cell_type": "markdown",
   "id": "fe2a3e59-1a10-4432-b62f-1f5a46633c6f",
   "metadata": {},
   "source": [
    "## Assignment 4\n",
    "### Description\n",
    "In this assignment you must read in a file of metropolitan regions and associated sports teams from [wikipedia_data.html](wikipedia_data.html) and answer some questions about each metropolitan region. Each of these regions may have one or more teams from the \"Big 4\": NFL (football, in [nfl.csv](nfl.csv)), MLB (baseball, in [mlb.csv](mlb.csv)), NBA (basketball, in [nba.csv](nba.csv) or NHL (hockey, in [nhl.csv](nhl.csv)). Please keep in mind that all questions are from the perspective of the metropolitan region, and that this file is the \"source of authority\" for the location of a given sports team. Thus teams which are commonly known by a different area (e.g. \"Oakland Raiders\") need to be mapped into the metropolitan region given (e.g. San Francisco Bay Area). This will require some human data understanding outside of the data you've been given (e.g. you will have to hand-code some names, and might need to google to find out where teams are)!\n",
    "\n",
    "For each sport I would like you to answer the question: **what is the win/loss ratio's correlation with the population of the city it is in?** Win/Loss ratio refers to the number of wins over the number of wins plus the number of losses. Remember that to calculate the correlation with [`pearsonr`](https://docs.scipy.org/doc/scipy/reference/generated/scipy.stats.pearsonr.html), so you are going to send in two ordered lists of values, the populations from the wikipedia_data.html file and the win/loss ratio for a given sport in the same order. Average the win/loss ratios for those cities which have multiple teams of a single sport. Each sport is worth an equal amount in this assignment (20%\\*4=80%) of the grade for this assignment. You should only use data **from year 2018** for your analysis -- this is important!\n",
    "\n",
    "### Notes\n",
    "\n",
    "1. Do not include data about the MLS or CFL in any of the work you are doing, we're only interested in the Big 4 in this assignment.\n",
    "2. I highly suggest that you first tackle the four correlation questions in order, as they are all similar and worth the majority of grades for this assignment. This is by design!\n",
    "3. It's fair game to talk with peers about high level strategy as well as the relationship between metropolitan areas and sports teams. However, do not post code solving aspects of the assignment (including such as dictionaries mapping areas to teams, or regexes which will clean up names).\n",
    "4. There may be more teams than the assert statements test, remember to collapse multiple teams in one city into a single value!\n",
    "\n",
    "As this assignment utilizes global variables in the skeleton code, to avoid having errors in your code you can either:\n",
    "\n",
    "1. You can place all of your code within the function definitions for all of the questions (other than import statements).\n",
    "2. You can create copies of all the global variables with the copy() method and proceed as usual."
   ]
  },
  {
   "cell_type": "markdown",
   "id": "1c5dc01a-76b5-4e2c-a68e-f4500c58628a",
   "metadata": {},
   "source": [
    "## Question 1\n",
    "For this question, calculate the win/loss ratio's correlation with the population of the city it is in for the **NHL** using **2018** data."
   ]
  },
  {
   "cell_type": "code",
   "execution_count": 187,
   "id": "5a248078-8cf6-4048-bf50-b6fa8c95e937",
   "metadata": {},
   "outputs": [
    {
     "data": {
      "text/plain": [
       "0.012308996455744266"
      ]
     },
     "execution_count": 187,
     "metadata": {},
     "output_type": "execute_result"
    }
   ],
   "source": [
    "import pandas as pd\n",
    "import numpy as np\n",
    "import scipy.stats as stats\n",
    "\n",
    "def nhl_correlation():\n",
    "        nhl_df = pd.read_csv('nhl.csv')\n",
    "        nhl_df = nhl_df[nhl_df['year'] == 2018]\n",
    "        nhl_df = nhl_df[['team','W', 'L']]\n",
    "        nhl_df.columns = ['team_only', 'W', 'L']\n",
    "        nhl_df = nhl_df[~nhl_df['W'].str.contains('Division')]\n",
    "        nhl_df['team_only'] = nhl_df['team_only'].str.split('*').str[0]\n",
    "        nhl_df['team_only'] = nhl_df['team_only'].str.split(' ').str[-1]\n",
    "        \n",
    "        nhl_df['W'] = nhl_df['W'].astype(float)\n",
    "        nhl_df['L'] = nhl_df['L'].astype(float)\n",
    "        \n",
    "        nhl_df.loc[3, 'team_only'] = 'Maple Leafs'\n",
    "        nhl_df.loc[5, 'team_only'] = 'Red Wings'\n",
    "        nhl_df.loc[13,'team_only'] = 'Blue Jackets'\n",
    "        nhl_df.loc[27,'team_only'] = 'Golden Knights'\n",
    "        \n",
    "        nhl_df.loc[14,'team_only'] = 'Rangers Islanders Devils'\n",
    "        nhl_df.loc[16,'team_only'] = 'Rangers Islanders Devils'\n",
    "        nhl_df.loc[17,'team_only'] = 'Rangers Islanders Devils'\n",
    "        nhl_df.loc[28,'team_only'] = 'Kings Ducks'\n",
    "        nhl_df.loc[30,'team_only'] = 'Kings Ducks'\n",
    "\n",
    "        nhl_df = nhl_df.groupby('team_only')[['W','L']].mean()\n",
    "        cities = pd.read_html('wikipedia_data.html')[1]\n",
    "        cities = cities[['Metropolitan area', 'Population (2016 est.)[8]', 'NHL']]\n",
    "        cities.columns = ['cities', 'population', 'team_only']\n",
    "        cities['team_only'] = cities['team_only'].str.split('[').str[0]\n",
    "        \n",
    "        df = pd.merge(nhl_df, cities, how='inner', on='team_only')\n",
    "        df['win_loss_ratio'] = df['W']/(df['W'] + df['L'])\n",
    "        \n",
    "        population_by_region = pd.to_numeric(df['population'], errors='coerce')\n",
    "        win_loss_by_region = pd.to_numeric(df['win_loss_ratio'], errors='coerce')\n",
    "        \n",
    "        return stats.pearsonr(population_by_region, win_loss_by_region)[0]\n",
    "\n",
    "nhl_correlation()"
   ]
  },
  {
   "cell_type": "markdown",
   "id": "c908f060-8660-4b81-95e4-7b140b6dd98a",
   "metadata": {},
   "source": [
    "## Question 2\n",
    "For this question, calculate the win/loss ratio's correlation with the population of the city it is in for the **NBA** using **2018** data."
   ]
  },
  {
   "cell_type": "code",
   "execution_count": 270,
   "id": "356539c0-27c5-42aa-aa56-6b0df8e97399",
   "metadata": {},
   "outputs": [
    {
     "data": {
      "text/plain": [
       "-0.17657160252844617"
      ]
     },
     "execution_count": 270,
     "metadata": {},
     "output_type": "execute_result"
    }
   ],
   "source": [
    "def nba_correlation():\n",
    "        nba_df = pd.read_csv('nba.csv')\n",
    "        nba_df = nba_df[nba_df['year'] == 2018]\n",
    "        nba_df = nba_df[['team', 'W', 'L']]\n",
    "        nba_df['team'] = nba_df['team'].str.split('*').str[0]\n",
    "        nba_df['team'] = nba_df['team'].str.split('(').str[0]\n",
    "        nba_df['team'] = nba_df['team'].str.split().str[-1]\n",
    "        nba_df.columns = ['team_only', 'W','L']\n",
    "        nba_df['W'] = nba_df['W'].astype(float)\n",
    "        nba_df['L'] = nba_df['L'].astype(float)\n",
    "        \n",
    "        nba_df.loc[10, 'team_only'] = 'Knicks Nets'\n",
    "        nba_df.loc[11, 'team_only'] = 'Knicks Nets'\n",
    "        nba_df.loc[24, 'team_only'] = 'Lakers Clippers'\n",
    "        nba_df.loc[25, 'team_only'] = 'Lakers Clippers'\n",
    "        nba_df.loc[17, 'team_only'] = 'Trail Blazers'\n",
    "        \n",
    "        nba_df = nba_df.groupby('team_only')[['W', 'L']].mean()\n",
    "        \n",
    "        cities = pd.read_html('wikipedia_data.html')[1]\n",
    "        cities = cities[['Metropolitan area', 'Population (2016 est.)[8]', 'NBA']]\n",
    "        cities['NBA'] = cities['NBA'].str.split('[').str[0]\n",
    "        cities.columns = ['city', 'population', 'team_only']\n",
    "        \n",
    "        merged_df = pd.merge(nba_df, cities, how='inner', on='team_only')\n",
    "        merged_df['win_loss_ratio'] = merged_df['W']/(merged_df['W'] + merged_df['L'])\n",
    "        population_by_region = pd.to_numeric(merged_df['population'], errors='coerce')\n",
    "        win_loss_by_region = pd.to_numeric(merged_df['win_loss_ratio'], errors='coerce')\n",
    "        \n",
    "        return population_by_region.corr(win_loss_by_region)\n",
    "\n",
    "nba_correlation()"
   ]
  },
  {
   "cell_type": "markdown",
   "id": "69e46e77-5908-4372-bc47-f46a8ea7dbd9",
   "metadata": {},
   "source": [
    "## Question 3\n",
    "For this question, calculate the win/loss ratio's correlation with the population of the city it is in for the **MLB** using **2018** data."
   ]
  },
  {
   "cell_type": "code",
   "execution_count": 314,
   "id": "1d2fa7ce-53b3-4fad-97e1-7a2a0c9d34cc",
   "metadata": {},
   "outputs": [
    {
     "data": {
      "text/plain": [
       "0.1505230448710485"
      ]
     },
     "execution_count": 314,
     "metadata": {},
     "output_type": "execute_result"
    }
   ],
   "source": [
    "def mlb_correlation():\n",
    "        mlb_df = pd.read_csv('mlb.csv')\n",
    "        mlb_df = mlb_df[mlb_df['year'] == 2018]\n",
    "        mlb_df = mlb_df[['team', 'W', 'L']]\n",
    "        mlb_df['team'] = mlb_df['team'].str.split().str[-1]\n",
    "        mlb_df.columns = ['team_only', 'W', 'L']\n",
    "        mlb_df['W'] = mlb_df['W'].astype(float)\n",
    "        mlb_df['L'] = mlb_df['L'].astype(float)\n",
    "        \n",
    "        mlb_df.loc[0, 'team_only'] = 'Red Sox'\n",
    "        mlb_df.loc[1, 'team_only'] = 'Yankees Mets'\n",
    "        mlb_df.loc[18,'team_only'] = 'Yankees Mets'\n",
    "        mlb_df.loc[13,'team_only'] = 'Dodgers Angels'\n",
    "        mlb_df.loc[25,'team_only'] = 'Dodgers Angels'\n",
    "        mlb_df.loc[11,'team_only'] = 'Giants Athletics'\n",
    "        mlb_df.loc[28,'team_only'] = 'Giants Athletics'\n",
    "        mlb_df.loc[8, 'team_only'] = 'Cubs White Sox'\n",
    "        mlb_df.loc[21,'team_only'] = 'Cubs White Sox'\n",
    "        mlb_df.loc[3, 'team_only'] = 'Blue Jays'\n",
    "        \n",
    "        mlb_df = mlb_df.groupby('team_only')[['W', 'L']].mean()\n",
    "        \n",
    "        cities = pd.read_html('wikipedia_data.html')[1]\n",
    "        cities = cities[['Metropolitan area', 'Population (2016 est.)[8]', 'MLB']]\n",
    "        cities['MLB'] = cities['MLB'].str.split('[').str[0]\n",
    "        cities.columns = ['city', 'population', 'team_only']\n",
    "        \n",
    "        \n",
    "        merged_df = pd.merge(mlb_df, cities, how='inner', on='team_only')\n",
    "        merged_df['win_loss_ratio'] = merged_df['W']/(merged_df['W'] + merged_df['L'])\n",
    "        population_by_region = pd.to_numeric(merged_df['population'], errors='coerce')\n",
    "        win_loss_by_region = pd.to_numeric(merged_df['win_loss_ratio'], errors='coerce')\n",
    "        \n",
    "        return population_by_region.corr(win_loss_by_region)\n",
    "\n",
    "mlb_correlation()"
   ]
  },
  {
   "cell_type": "markdown",
   "id": "7c05fc29-b788-4b46-aab0-1adc66a24225",
   "metadata": {},
   "source": [
    "## Question 4\n",
    "For this question, calculate the win/loss ratio's correlation with the population of the city it is in for the **NFL** using **2018** data."
   ]
  },
  {
   "cell_type": "code",
   "execution_count": 348,
   "id": "e9c60d6c-6e50-4970-901f-65d59c6a7058",
   "metadata": {},
   "outputs": [
    {
     "data": {
      "text/plain": [
       "0.004922112149349415"
      ]
     },
     "execution_count": 348,
     "metadata": {},
     "output_type": "execute_result"
    }
   ],
   "source": [
    "def nfl_correlation():\n",
    "        nfl_df = pd.read_csv('nfl.csv')\n",
    "        nfl_df = nfl_df[nfl_df['year'] == 2018]\n",
    "        nfl_df = nfl_df[['team', 'W', 'L']]\n",
    "        nfl_df = nfl_df[~nfl_df['W'].str.contains('AFC')]\n",
    "        nfl_df = nfl_df[~nfl_df['W'].str.contains('NFC')]\n",
    "        nfl_df = nfl_df.reset_index(drop=True)\n",
    "        \n",
    "        nfl_df['team'] = nfl_df['team'].str.split('*').str[0]\n",
    "        nfl_df['team'] = nfl_df['team'].str.split('+').str[0]\n",
    "        nfl_df['team'] = nfl_df['team'].str.split().str[-1]\n",
    "        nfl_df.columns = ['team_only', 'W', 'L']\n",
    "        nfl_df['W'] = nfl_df['W'].astype(float)\n",
    "        nfl_df['L'] = nfl_df['L'].astype(float)\n",
    "        \n",
    "        nfl_df.loc[3, 'team_only'] = 'Giants Jets'\n",
    "        nfl_df.loc[19,'team_only'] = 'Giants Jets'\n",
    "        nfl_df.loc[13,'team_only'] = 'Rams Chargers'\n",
    "        nfl_df.loc[28,'team_only'] = 'Rams Chargers'\n",
    "        nfl_df.loc[15,'team_only'] = '49ers Raiders'\n",
    "        nfl_df.loc[30,'team_only'] = '49ers Raiders'\n",
    "        \n",
    "        nfl_df = nfl_df.groupby('team_only')[['W', 'L']].mean()\n",
    "        \n",
    "        cities = pd.read_html('wikipedia_data.html')[1]\n",
    "        cities = cities[['Metropolitan area', 'Population (2016 est.)[8]', 'NFL']]\n",
    "        cities['NFL'] = cities['NFL'].str.split('[').str[0]\n",
    "        cities.columns = ['city', 'population', 'team_only']\n",
    "        \n",
    "        merged_df = pd.merge(nfl_df, cities, how='inner', on='team_only')\n",
    "        merged_df['win_loss_ratio'] = merged_df['W']/(merged_df['W'] + merged_df['L'])\n",
    "        population_by_region = pd.to_numeric(merged_df['population'], errors='coerce')\n",
    "        win_loss_by_region = pd.to_numeric(merged_df['win_loss_ratio'], errors='coerce')\n",
    "        \n",
    "        return stats.pearsonr(population_by_region, win_loss_by_region)[0]\n",
    "\n",
    "nfl_correlation()"
   ]
  },
  {
   "cell_type": "markdown",
   "id": "6ac48ab4-d26d-4478-93ab-956a81302534",
   "metadata": {},
   "source": [
    "### Thank you\n",
    "## Author\n",
    "\n",
    "[Neelesh Chidar](https://www.linkedin.com/in/neeleshchidar37/)"
   ]
  }
 ],
 "metadata": {
  "kernelspec": {
   "display_name": "Python 3 (ipykernel)",
   "language": "python",
   "name": "python3"
  },
  "language_info": {
   "codemirror_mode": {
    "name": "ipython",
    "version": 3
   },
   "file_extension": ".py",
   "mimetype": "text/x-python",
   "name": "python",
   "nbconvert_exporter": "python",
   "pygments_lexer": "ipython3",
   "version": "3.11.5"
  }
 },
 "nbformat": 4,
 "nbformat_minor": 5
}
